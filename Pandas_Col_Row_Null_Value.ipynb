{
 "cells": [
  {
   "cell_type": "markdown",
   "metadata": {},
   "source": [
    "## Check Pandas for Null Columns and Rows"
   ]
  },
  {
   "cell_type": "code",
   "execution_count": 1,
   "metadata": {},
   "outputs": [],
   "source": [
    "import pandas as pd\n",
    "data = {'A' :[None, 2.0, 3.0, 4.0],\n",
    "        'B' :[6.0, 7.0, None, 4.0],\n",
    "        'C' :[11.0,12.0,13.0,14.0]}\n",
    "index =['2019-01-01','2019-01-02','2019-01-03','2019-01-04']\n",
    "df = pd.DataFrame(data, index = index)"
   ]
  },
  {
   "cell_type": "code",
   "execution_count": 2,
   "metadata": {},
   "outputs": [
    {
     "name": "stdout",
     "output_type": "stream",
     "text": [
      "              A    B     C\n",
      "2019-01-01  NaN  6.0  11.0\n",
      "2019-01-02  2.0  7.0  12.0\n",
      "2019-01-03  3.0  NaN  13.0\n",
      "2019-01-04  4.0  4.0  14.0\n"
     ]
    }
   ],
   "source": [
    "print(df)"
   ]
  },
  {
   "cell_type": "code",
   "execution_count": 3,
   "metadata": {},
   "outputs": [
    {
     "name": "stdout",
     "output_type": "stream",
     "text": [
      "              A    B\n",
      "2019-01-01  NaN  6.0\n",
      "2019-01-02  2.0  7.0\n",
      "2019-01-03  3.0  NaN\n",
      "2019-01-04  4.0  4.0\n"
     ]
    }
   ],
   "source": [
    "#find columns with Null Value\n",
    "is_NaN_cells = df.isnull()\n",
    "columns_has_NaN = is_NaN_cells.any(axis=0)\n",
    "columns_with_NaN = df[[col for col, value in columns_has_NaN.items() if value == True]]\n",
    "\n",
    "print(columns_with_NaN)"
   ]
  },
  {
   "cell_type": "code",
   "execution_count": 4,
   "metadata": {},
   "outputs": [
    {
     "name": "stdout",
     "output_type": "stream",
     "text": [
      "              A    B     C\n",
      "2019-01-01  NaN  6.0  11.0\n",
      "2019-01-03  3.0  NaN  13.0\n"
     ]
    }
   ],
   "source": [
    "#find rows with Null Value\n",
    "is_NaN_cells = df.isnull()\n",
    "row_has_NaN = is_NaN_cells.any(axis=1)\n",
    "rows_with_NaN = df[row_has_NaN]\n",
    "\n",
    "print(rows_with_NaN)"
   ]
  }
 ],
 "metadata": {
  "kernelspec": {
   "display_name": "Python 3",
   "language": "python",
   "name": "python3"
  },
  "language_info": {
   "codemirror_mode": {
    "name": "ipython",
    "version": 3
   },
   "file_extension": ".py",
   "mimetype": "text/x-python",
   "name": "python",
   "nbconvert_exporter": "python",
   "pygments_lexer": "ipython3",
   "version": "3.7.7"
  }
 },
 "nbformat": 4,
 "nbformat_minor": 4
}
